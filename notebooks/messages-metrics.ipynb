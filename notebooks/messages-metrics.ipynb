{
 "cells": [
  {
   "cell_type": "markdown",
   "metadata": {},
   "source": [
    "# Messages Metrics\n",
    "\n",
    "Let's dive into your message history! This notebook only works on Macs running macOS 12.6 or greater. For best results, make sure you're using [Messages in iCloud](https://support.apple.com/en-us/HT208532).\n",
    "\n",
    "**Your messages will not leave this device.**"
   ]
  },
  {
   "cell_type": "code",
   "execution_count": 118,
   "metadata": {},
   "outputs": [
    {
     "name": "stdout",
     "output_type": "stream",
     "text": [
      "Opened chat database /Users/jungaretti/Library/Messages/chat.db\n"
     ]
    }
   ],
   "source": [
    "import os\n",
    "import sqlite3\n",
    "\n",
    "chat_db = os.environ.get('HOME') + '/Library/Messages/chat.db'\n",
    "connection = sqlite3.connect(chat_db)\n",
    "cursor = connection.cursor()\n",
    "print(\"Opened chat database %s\" % chat_db)"
   ]
  },
  {
   "cell_type": "code",
   "execution_count": 119,
   "metadata": {},
   "outputs": [
    {
     "name": "stdout",
     "output_type": "stream",
     "text": [
      "Read 699,127 messages\n"
     ]
    }
   ],
   "source": [
    "import pandas\n",
    "\n",
    "messages_table = pandas.read_sql_query('''select *, datetime(date/1000000000 + strftime(\"%s\", \"2001-01-01\") ,\"unixepoch\",\"localtime\")  as date_utc from message''', connection)\n",
    "handles_table = pandas.read_sql_query('select * from handle', connection)\n",
    "print(\"Read {:,} messages\".format(messages_table.shape[0]))"
   ]
  },
  {
   "cell_type": "code",
   "execution_count": 120,
   "metadata": {},
   "outputs": [
    {
     "name": "stdout",
     "output_type": "stream",
     "text": [
      "Processed 699,127 messages\n"
     ]
    }
   ],
   "source": [
    "messages_table['timestamp'] = messages_table['date_utc'].apply(lambda x: pandas.Timestamp(x))\n",
    "messages_table['date'] = messages_table['timestamp'].apply(lambda x: x.date())\n",
    "messages_table['year'] = messages_table['timestamp'].apply(lambda x: int(x.year))\n",
    "messages_table['month'] = messages_table['timestamp'].apply(lambda x: int(x.month))\n",
    "\n",
    "handles_table.rename(columns={'id': 'handle', 'ROWID': 'handle_id'}, inplace=True)\n",
    "messages = pandas.merge(messages_table, handles_table, on='handle_id', how='left')\n",
    "print(\"Processed {:,} messages\".format(messages.shape[0]))"
   ]
  },
  {
   "cell_type": "markdown",
   "metadata": {},
   "source": [
    "## Frequently Asked Questions\n",
    "\n",
    "Each row of `messages` includes information about a message's `text`, `timestamp`, `phone_number`, and much more."
   ]
  },
  {
   "cell_type": "code",
   "execution_count": 121,
   "metadata": {},
   "outputs": [],
   "source": [
    "import matplotlib.pyplot as plt"
   ]
  },
  {
   "cell_type": "markdown",
   "metadata": {},
   "source": [
    "### Who are my top contacts?"
   ]
  },
  {
   "cell_type": "code",
   "execution_count": null,
   "metadata": {},
   "outputs": [],
   "source": [
    "top_handles = messages.groupby('handle').size().nlargest(12)\n",
    "top_handles.plot(kind=\"bar\")\n",
    "\n",
    "plt.title(\"Who are my top contacts?\")\n",
    "plt.xlabel('Phone Number or Email')\n",
    "plt.ylabel('Messages')\n",
    "plt.show()"
   ]
  }
 ],
 "metadata": {
  "kernelspec": {
   "display_name": "Python 3.10.6 ('.venv': venv)",
   "language": "python",
   "name": "python3"
  },
  "language_info": {
   "codemirror_mode": {
    "name": "ipython",
    "version": 3
   },
   "file_extension": ".py",
   "mimetype": "text/x-python",
   "name": "python",
   "nbconvert_exporter": "python",
   "pygments_lexer": "ipython3",
   "version": "3.10.6"
  },
  "orig_nbformat": 4,
  "vscode": {
   "interpreter": {
    "hash": "670ccc7f3dede7010846cdffca0a90e253e6596ebe9a8aef3f602732af9c1d8b"
   }
  }
 },
 "nbformat": 4,
 "nbformat_minor": 2
}
